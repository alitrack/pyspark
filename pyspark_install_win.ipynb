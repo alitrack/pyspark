{
 "cells": [
  {
   "cell_type": "markdown",
   "metadata": {},
   "source": [
    "### 下载（download）\n",
    "* 最新版本（last version)Spark\n",
    "https://spark.apache.org/downloads.html\n",
    "\n",
    "* JDK: Amazon Corretto是Amazon提供的一个免费的、基于OpenJDK的、多平台的、生产就绪的JDK发行版\n",
    "https://docs.aws.amazon.com/zh_cn/corretto/latest/corretto-8-ug/downloads-list.html\n",
    "*  winutils\n",
    "https://github.com/steveloughran/winutils"
   ]
  },
  {
   "cell_type": "markdown",
   "metadata": {},
   "source": [
    "### 解压缩"
   ]
  },
  {
   "cell_type": "code",
   "execution_count": null,
   "metadata": {},
   "outputs": [],
   "source": [
    "!python -m tarfile -e c:/spark/spark-2.4.2-bin-hadoop2.7.tgz  c:/spark/\n",
    "!python -m zipfile -e c:/spark/amazon-corretto-8.202.08.2-windows-x64-jdk.zip c:/spark/\n",
    "!python -m zipfile -e c:/spark/winutils-master.zip c:/spark/        "
   ]
  },
  {
   "cell_type": "markdown",
   "metadata": {},
   "source": [
    "### 安装pyspark和findspark"
   ]
  },
  {
   "cell_type": "code",
   "execution_count": null,
   "metadata": {},
   "outputs": [],
   "source": [
    "!pip install findspark"
   ]
  },
  {
   "cell_type": "code",
   "execution_count": null,
   "metadata": {},
   "outputs": [],
   "source": [
    "#可以直接安装\n",
    "#!pip install  pyspark\n",
    "#网络问题，也可以下载后安装"
   ]
  },
  {
   "cell_type": "code",
   "execution_count": null,
   "metadata": {},
   "outputs": [],
   "source": [
    "!pip install c://spark/pyspark-2.4.2.tar.gz"
   ]
  },
  {
   "cell_type": "code",
   "execution_count": null,
   "metadata": {},
   "outputs": [],
   "source": [
    "import os\n",
    "os.environ[\"HADOOP_HOME\"]=\"c://spark/winutils-master/hadoop-2.7.1/\"\n",
    "os.environ[\"JAVA_HOME\"]=\"c:\\\\spark\\\\jdk1.8.0_202\"\n",
    "import findspark\n",
    "findspark.init(spark_home=\"c:\\\\spark\\\\spark-2.4.2-bin-hadoop2.7\")"
   ]
  },
  {
   "cell_type": "code",
   "execution_count": null,
   "metadata": {
    "scrolled": true
   },
   "outputs": [],
   "source": [
    "from pyspark.sql import SparkSession\n",
    "spark=SparkSession.Builder().master(\"local[*]\").getOrCreate()\n",
    "spark"
   ]
  },
  {
   "cell_type": "code",
   "execution_count": null,
   "metadata": {},
   "outputs": [],
   "source": [
    "df=spark.sql(\"select 1 as a \")\n",
    "df.show()"
   ]
  },
  {
   "cell_type": "code",
   "execution_count": null,
   "metadata": {},
   "outputs": [],
   "source": [
    "df.write.parquet(\"hello\",mode=\"overwrite\")\n",
    "df=spark.read.parquet(\"hello\")\n",
    "print(df.toPandas())"
   ]
  },
  {
   "cell_type": "code",
   "execution_count": null,
   "metadata": {},
   "outputs": [],
   "source": [
    "spark.stop()"
   ]
  }
 ],
 "metadata": {
  "kernelspec": {
   "display_name": "Python 3",
   "language": "python",
   "name": "python3"
  },
  "language_info": {
   "codemirror_mode": {
    "name": "ipython",
    "version": 3
   },
   "file_extension": ".py",
   "mimetype": "text/x-python",
   "name": "python",
   "nbconvert_exporter": "python",
   "pygments_lexer": "ipython3",
   "version": "3.6.4"
  }
 },
 "nbformat": 4,
 "nbformat_minor": 2
}
