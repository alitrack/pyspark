{
 "cells": [
  {
   "cell_type": "code",
   "execution_count": 1,
   "metadata": {},
   "outputs": [],
   "source": [
    "from pyspark.ml.fpm import FPGrowth\n",
    "from pyspark.sql import SparkSession\n",
    "spark = SparkSession\\\n",
    "    .builder\\\n",
    "    .master(\"local[*]\")\\\n",
    "    .appName(\"FPGrowthExample\")\\\n",
    "    .getOrCreate()"
   ]
  },
  {
   "cell_type": "code",
   "execution_count": 2,
   "metadata": {},
   "outputs": [],
   "source": [
    "data=spark.read.csv(\"transactions.csv\",header=True)"
   ]
  },
  {
   "cell_type": "code",
   "execution_count": 3,
   "metadata": {},
   "outputs": [
    {
     "name": "stdout",
     "output_type": "stream",
     "text": [
      "+---+--------------------+\n",
      "| id|                item|\n",
      "+---+--------------------+\n",
      "|  1|        citrus fruit|\n",
      "|  1| semi-finished bread|\n",
      "|  1|           margarine|\n",
      "|  1|         ready soups|\n",
      "|  2|      tropical fruit|\n",
      "|  2|              yogurt|\n",
      "|  2|              coffee|\n",
      "|  3|          whole milk|\n",
      "|  4|           pip fruit|\n",
      "|  4|              yogurt|\n",
      "|  4|       cream cheese |\n",
      "|  4|        meat spreads|\n",
      "|  5|    other vegetables|\n",
      "|  5|          whole milk|\n",
      "|  5|      condensed milk|\n",
      "|  5|long life bakery ...|\n",
      "|  6|          whole milk|\n",
      "|  6|              butter|\n",
      "|  6|              yogurt|\n",
      "|  6|                rice|\n",
      "+---+--------------------+\n",
      "only showing top 20 rows\n",
      "\n"
     ]
    }
   ],
   "source": [
    "data.show()"
   ]
  },
  {
   "cell_type": "code",
   "execution_count": null,
   "metadata": {},
   "outputs": [],
   "source": [
    "import pyspark.sql.functions as f\n",
    "data1=data.groupby(\"id\").agg(f.collect_list(\"item\").alias(\"items\"))\n",
    "data1.show()"
   ]
  },
  {
   "cell_type": "code",
   "execution_count": 10,
   "metadata": {},
   "outputs": [],
   "source": []
  },
  {
   "cell_type": "code",
   "execution_count": 11,
   "metadata": {},
   "outputs": [
    {
     "name": "stdout",
     "output_type": "stream",
     "text": [
      "+----+--------------------+\n",
      "|  id|               items|\n",
      "+----+--------------------+\n",
      "|1090|[beef, citrus fru...|\n",
      "|1159|[citrus fruit, bo...|\n",
      "|1436|[sausage, whole m...|\n",
      "|1512|[sausage, fish, o...|\n",
      "|1572|            [yogurt]|\n",
      "|2069|[chicken, canned ...|\n",
      "|2088|[sausage, ham, wh...|\n",
      "|2136|[other vegetables...|\n",
      "|2162|[tropical fruit, ...|\n",
      "|2294|[beverages, rolls...|\n",
      "|2904|[root vegetables,...|\n",
      "| 296|[citrus fruit, pa...|\n",
      "|3210|[other vegetables...|\n",
      "|3414|[chicken, citrus ...|\n",
      "|3606|[frozen vegetable...|\n",
      "|3959|[beef, root veget...|\n",
      "|4032|[liver loaf, citr...|\n",
      "| 467|[other vegetables...|\n",
      "|4821|[other vegetables...|\n",
      "|4937|[frankfurter, sau...|\n",
      "+----+--------------------+\n",
      "only showing top 20 rows\n",
      "\n"
     ]
    }
   ],
   "source": []
  },
  {
   "cell_type": "code",
   "execution_count": 19,
   "metadata": {},
   "outputs": [],
   "source": [
    "fpGrowth = FPGrowth(itemsCol=\"items\", minSupport=0.05, minConfidence=0.05)\n",
    "model = fpGrowth.fit(data1)"
   ]
  },
  {
   "cell_type": "code",
   "execution_count": 20,
   "metadata": {},
   "outputs": [
    {
     "name": "stdout",
     "output_type": "stream",
     "text": [
      "+--------------------+----+\n",
      "|               items|freq|\n",
      "+--------------------+----+\n",
      "|        [whole milk]|2513|\n",
      "|  [other vegetables]|1903|\n",
      "|[other vegetables...| 736|\n",
      "|        [rolls/buns]|1809|\n",
      "|[rolls/buns, whol...| 557|\n",
      "|              [soda]|1715|\n",
      "|            [yogurt]|1372|\n",
      "|[yogurt, whole milk]| 551|\n",
      "|     [bottled water]|1087|\n",
      "|   [root vegetables]|1072|\n",
      "|    [tropical fruit]|1032|\n",
      "|     [shopping bags]| 969|\n",
      "|           [sausage]| 924|\n",
      "|            [pastry]| 875|\n",
      "|      [citrus fruit]| 814|\n",
      "|      [bottled beer]| 792|\n",
      "|        [newspapers]| 785|\n",
      "|       [canned beer]| 764|\n",
      "|         [pip fruit]| 744|\n",
      "|[fruit/vegetable ...| 711|\n",
      "+--------------------+----+\n",
      "only showing top 20 rows\n",
      "\n"
     ]
    }
   ],
   "source": [
    "model.freqItemsets.show()"
   ]
  },
  {
   "cell_type": "code",
   "execution_count": 21,
   "metadata": {},
   "outputs": [
    {
     "name": "stdout",
     "output_type": "stream",
     "text": [
      "+------------------+------------------+-------------------+------------------+\n",
      "|        antecedent|        consequent|         confidence|              lift|\n",
      "+------------------+------------------+-------------------+------------------+\n",
      "|      [rolls/buns]|      [whole milk]|0.30790491984521834|1.2050317893663836|\n",
      "|[other vegetables]|      [whole milk]|0.38675775091960063|1.5136340948246207|\n",
      "|      [whole milk]|[other vegetables]|0.29287703939514526| 1.513634094824621|\n",
      "|      [whole milk]|      [rolls/buns]| 0.2216474333465977|1.2050317893663838|\n",
      "|      [whole milk]|          [yogurt]| 0.2192598487863112|1.5717351405345266|\n",
      "|          [yogurt]|      [whole milk]|0.40160349854227406|1.5717351405345266|\n",
      "+------------------+------------------+-------------------+------------------+\n",
      "\n"
     ]
    }
   ],
   "source": [
    "model.associationRules.show()"
   ]
  },
  {
   "cell_type": "code",
   "execution_count": 22,
   "metadata": {},
   "outputs": [
    {
     "name": "stdout",
     "output_type": "stream",
     "text": [
      "+----+--------------------+--------------------+\n",
      "|  id|               items|          prediction|\n",
      "+----+--------------------+--------------------+\n",
      "|1090|[beef, citrus fru...|            [yogurt]|\n",
      "|1159|[citrus fruit, bo...|                  []|\n",
      "|1436|[sausage, whole m...|[other vegetables...|\n",
      "|1512|[sausage, fish, o...|        [whole milk]|\n",
      "|1572|            [yogurt]|        [whole milk]|\n",
      "|2069|[chicken, canned ...|                  []|\n",
      "|2088|[sausage, ham, wh...|[other vegetables...|\n",
      "|2136|[other vegetables...|            [yogurt]|\n",
      "|2162|[tropical fruit, ...|        [whole milk]|\n",
      "|2294|[beverages, rolls...|        [whole milk]|\n",
      "|2904|[root vegetables,...|[other vegetables...|\n",
      "| 296|[citrus fruit, pa...|        [whole milk]|\n",
      "|3210|[other vegetables...|        [whole milk]|\n",
      "|3414|[chicken, citrus ...|        [whole milk]|\n",
      "|3606|[frozen vegetable...|                  []|\n",
      "|3959|[beef, root veget...|                  []|\n",
      "|4032|[liver loaf, citr...|        [whole milk]|\n",
      "| 467|[other vegetables...|[rolls/buns, yogurt]|\n",
      "|4821|[other vegetables...|[rolls/buns, yogurt]|\n",
      "|4937|[frankfurter, sau...|                  []|\n",
      "+----+--------------------+--------------------+\n",
      "only showing top 20 rows\n",
      "\n"
     ]
    }
   ],
   "source": [
    "model.transform(data1).show()"
   ]
  },
  {
   "cell_type": "code",
   "execution_count": 23,
   "metadata": {},
   "outputs": [],
   "source": [
    "spark.stop()"
   ]
  }
 ],
 "metadata": {
  "kernelspec": {
   "display_name": "Python 3",
   "language": "python",
   "name": "python3"
  },
  "language_info": {
   "codemirror_mode": {
    "name": "ipython",
    "version": 3
   },
   "file_extension": ".py",
   "mimetype": "text/x-python",
   "name": "python",
   "nbconvert_exporter": "python",
   "pygments_lexer": "ipython3",
   "version": "3.6.4"
  }
 },
 "nbformat": 4,
 "nbformat_minor": 2
}
